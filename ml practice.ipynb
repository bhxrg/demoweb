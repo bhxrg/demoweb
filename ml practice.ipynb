{
 "cells": [
  {
   "cell_type": "markdown",
   "id": "d5d16158",
   "metadata": {},
   "source": [
    "# linear regression"
   ]
  },
  {
   "cell_type": "code",
   "execution_count": 1,
   "id": "099007e3",
   "metadata": {},
   "outputs": [],
   "source": [
    "import pandas as pd\n",
    "import numpy as np\n",
    "import statsmodels.api as sm"
   ]
  },
  {
   "cell_type": "code",
   "execution_count": 2,
   "id": "d7323a9d",
   "metadata": {},
   "outputs": [],
   "source": [
    "data=pd.read_csv(\"C:\\\\Users\\\\prasanna\\\\OneDrive\\\\Desktop\\\\4thsem\\\\Part A\\\\1_linear_regression_data.csv\")"
   ]
  },
  {
   "cell_type": "code",
   "execution_count": 3,
   "id": "5b17b0a8",
   "metadata": {},
   "outputs": [
    {
     "data": {
      "text/html": [
       "<div>\n",
       "<style scoped>\n",
       "    .dataframe tbody tr th:only-of-type {\n",
       "        vertical-align: middle;\n",
       "    }\n",
       "\n",
       "    .dataframe tbody tr th {\n",
       "        vertical-align: top;\n",
       "    }\n",
       "\n",
       "    .dataframe thead th {\n",
       "        text-align: right;\n",
       "    }\n",
       "</style>\n",
       "<table border=\"1\" class=\"dataframe\">\n",
       "  <thead>\n",
       "    <tr style=\"text-align: right;\">\n",
       "      <th></th>\n",
       "      <th>sales</th>\n",
       "      <th>youtube</th>\n",
       "      <th>facebook</th>\n",
       "      <th>newspaper</th>\n",
       "    </tr>\n",
       "  </thead>\n",
       "  <tbody>\n",
       "    <tr>\n",
       "      <th>0</th>\n",
       "      <td>26.52</td>\n",
       "      <td>276.12</td>\n",
       "      <td>45.36</td>\n",
       "      <td>83.04</td>\n",
       "    </tr>\n",
       "    <tr>\n",
       "      <th>1</th>\n",
       "      <td>12.48</td>\n",
       "      <td>53.40</td>\n",
       "      <td>47.16</td>\n",
       "      <td>54.12</td>\n",
       "    </tr>\n",
       "    <tr>\n",
       "      <th>2</th>\n",
       "      <td>11.16</td>\n",
       "      <td>20.64</td>\n",
       "      <td>55.08</td>\n",
       "      <td>83.16</td>\n",
       "    </tr>\n",
       "    <tr>\n",
       "      <th>3</th>\n",
       "      <td>22.20</td>\n",
       "      <td>181.80</td>\n",
       "      <td>49.56</td>\n",
       "      <td>70.20</td>\n",
       "    </tr>\n",
       "    <tr>\n",
       "      <th>4</th>\n",
       "      <td>15.48</td>\n",
       "      <td>216.96</td>\n",
       "      <td>12.96</td>\n",
       "      <td>70.08</td>\n",
       "    </tr>\n",
       "  </tbody>\n",
       "</table>\n",
       "</div>"
      ],
      "text/plain": [
       "   sales  youtube  facebook  newspaper\n",
       "0  26.52   276.12     45.36      83.04\n",
       "1  12.48    53.40     47.16      54.12\n",
       "2  11.16    20.64     55.08      83.16\n",
       "3  22.20   181.80     49.56      70.20\n",
       "4  15.48   216.96     12.96      70.08"
      ]
     },
     "execution_count": 3,
     "metadata": {},
     "output_type": "execute_result"
    }
   ],
   "source": [
    "data.head()"
   ]
  },
  {
   "cell_type": "code",
   "execution_count": 4,
   "id": "ec5d415e",
   "metadata": {},
   "outputs": [
    {
     "name": "stdout",
     "output_type": "stream",
     "text": [
      "<class 'pandas.core.frame.DataFrame'>\n",
      "RangeIndex: 200 entries, 0 to 199\n",
      "Data columns (total 4 columns):\n",
      " #   Column     Non-Null Count  Dtype  \n",
      "---  ------     --------------  -----  \n",
      " 0   sales      200 non-null    float64\n",
      " 1   youtube    200 non-null    float64\n",
      " 2   facebook   200 non-null    float64\n",
      " 3   newspaper  200 non-null    float64\n",
      "dtypes: float64(4)\n",
      "memory usage: 6.4 KB\n"
     ]
    }
   ],
   "source": [
    "data.info()"
   ]
  },
  {
   "cell_type": "code",
   "execution_count": 5,
   "id": "587e25ba",
   "metadata": {},
   "outputs": [
    {
     "data": {
      "text/html": [
       "<div>\n",
       "<style scoped>\n",
       "    .dataframe tbody tr th:only-of-type {\n",
       "        vertical-align: middle;\n",
       "    }\n",
       "\n",
       "    .dataframe tbody tr th {\n",
       "        vertical-align: top;\n",
       "    }\n",
       "\n",
       "    .dataframe thead th {\n",
       "        text-align: right;\n",
       "    }\n",
       "</style>\n",
       "<table border=\"1\" class=\"dataframe\">\n",
       "  <thead>\n",
       "    <tr style=\"text-align: right;\">\n",
       "      <th></th>\n",
       "      <th>sales</th>\n",
       "      <th>youtube</th>\n",
       "      <th>facebook</th>\n",
       "      <th>newspaper</th>\n",
       "    </tr>\n",
       "  </thead>\n",
       "  <tbody>\n",
       "    <tr>\n",
       "      <th>count</th>\n",
       "      <td>200.000000</td>\n",
       "      <td>200.000000</td>\n",
       "      <td>200.000000</td>\n",
       "      <td>200.000000</td>\n",
       "    </tr>\n",
       "    <tr>\n",
       "      <th>mean</th>\n",
       "      <td>16.827000</td>\n",
       "      <td>176.451000</td>\n",
       "      <td>27.921800</td>\n",
       "      <td>36.664800</td>\n",
       "    </tr>\n",
       "    <tr>\n",
       "      <th>std</th>\n",
       "      <td>6.260948</td>\n",
       "      <td>103.025084</td>\n",
       "      <td>17.808436</td>\n",
       "      <td>26.134345</td>\n",
       "    </tr>\n",
       "    <tr>\n",
       "      <th>min</th>\n",
       "      <td>1.920000</td>\n",
       "      <td>0.840000</td>\n",
       "      <td>0.360000</td>\n",
       "      <td>0.360000</td>\n",
       "    </tr>\n",
       "    <tr>\n",
       "      <th>25%</th>\n",
       "      <td>12.450000</td>\n",
       "      <td>89.250000</td>\n",
       "      <td>11.970000</td>\n",
       "      <td>15.300000</td>\n",
       "    </tr>\n",
       "    <tr>\n",
       "      <th>50%</th>\n",
       "      <td>15.480000</td>\n",
       "      <td>179.700000</td>\n",
       "      <td>27.480000</td>\n",
       "      <td>30.900000</td>\n",
       "    </tr>\n",
       "    <tr>\n",
       "      <th>75%</th>\n",
       "      <td>20.880000</td>\n",
       "      <td>262.590000</td>\n",
       "      <td>43.830000</td>\n",
       "      <td>54.120000</td>\n",
       "    </tr>\n",
       "    <tr>\n",
       "      <th>max</th>\n",
       "      <td>32.400000</td>\n",
       "      <td>355.680000</td>\n",
       "      <td>59.520000</td>\n",
       "      <td>136.800000</td>\n",
       "    </tr>\n",
       "  </tbody>\n",
       "</table>\n",
       "</div>"
      ],
      "text/plain": [
       "            sales     youtube    facebook   newspaper\n",
       "count  200.000000  200.000000  200.000000  200.000000\n",
       "mean    16.827000  176.451000   27.921800   36.664800\n",
       "std      6.260948  103.025084   17.808436   26.134345\n",
       "min      1.920000    0.840000    0.360000    0.360000\n",
       "25%     12.450000   89.250000   11.970000   15.300000\n",
       "50%     15.480000  179.700000   27.480000   30.900000\n",
       "75%     20.880000  262.590000   43.830000   54.120000\n",
       "max     32.400000  355.680000   59.520000  136.800000"
      ]
     },
     "execution_count": 5,
     "metadata": {},
     "output_type": "execute_result"
    }
   ],
   "source": [
    "data.describe()"
   ]
  },
  {
   "cell_type": "code",
   "execution_count": 6,
   "id": "e3ccc5f5",
   "metadata": {},
   "outputs": [],
   "source": [
    "X=(data[['youtube','facebook','newspaper']])"
   ]
  },
  {
   "cell_type": "code",
   "execution_count": 7,
   "id": "78583882",
   "metadata": {},
   "outputs": [],
   "source": [
    "Y=data['sales']"
   ]
  },
  {
   "cell_type": "code",
   "execution_count": 8,
   "id": "92c2846a",
   "metadata": {},
   "outputs": [],
   "source": [
    "X=sm.add_constant(X)"
   ]
  },
  {
   "cell_type": "code",
   "execution_count": 9,
   "id": "c878789e",
   "metadata": {},
   "outputs": [],
   "source": [
    "model=sm.OLS(Y,X).fit()"
   ]
  },
  {
   "cell_type": "code",
   "execution_count": 10,
   "id": "78dc2d32",
   "metadata": {},
   "outputs": [
    {
     "name": "stdout",
     "output_type": "stream",
     "text": [
      "                            OLS Regression Results                            \n",
      "==============================================================================\n",
      "Dep. Variable:                  sales   R-squared:                       0.897\n",
      "Model:                            OLS   Adj. R-squared:                  0.896\n",
      "Method:                 Least Squares   F-statistic:                     571.0\n",
      "Date:                Thu, 14 Sep 2023   Prob (F-statistic):           1.40e-96\n",
      "Time:                        10:26:46   Log-Likelihood:                -422.53\n",
      "No. Observations:                 200   AIC:                             853.1\n",
      "Df Residuals:                     196   BIC:                             866.2\n",
      "Df Model:                           3                                         \n",
      "Covariance Type:            nonrobust                                         \n",
      "==============================================================================\n",
      "                 coef    std err          t      P>|t|      [0.025      0.975]\n",
      "------------------------------------------------------------------------------\n",
      "const          3.5212      0.374      9.411      0.000       2.783       4.259\n",
      "youtube        0.0458      0.001     32.833      0.000       0.043       0.049\n",
      "facebook       0.1886      0.009     21.912      0.000       0.172       0.206\n",
      "newspaper     -0.0010      0.006     -0.176      0.861      -0.013       0.011\n",
      "==============================================================================\n",
      "Omnibus:                       60.606   Durbin-Watson:                   2.083\n",
      "Prob(Omnibus):                  0.000   Jarque-Bera (JB):              152.128\n",
      "Skew:                          -1.331   Prob(JB):                     9.24e-34\n",
      "Kurtosis:                       6.343   Cond. No.                         545.\n",
      "==============================================================================\n",
      "\n",
      "Notes:\n",
      "[1] Standard Errors assume that the covariance matrix of the errors is correctly specified.\n"
     ]
    }
   ],
   "source": [
    "print(model.summary())"
   ]
  },
  {
   "cell_type": "code",
   "execution_count": 12,
   "id": "7d71564c",
   "metadata": {},
   "outputs": [],
   "source": [
    "sales_pred=model.predict(X)"
   ]
  },
  {
   "cell_type": "code",
   "execution_count": 19,
   "id": "2272a393",
   "metadata": {},
   "outputs": [
    {
     "data": {
      "text/plain": [
       "11.2382980612622"
      ]
     },
     "execution_count": 19,
     "metadata": {},
     "output_type": "execute_result"
    }
   ],
   "source": [
    "#mape\n",
    "np.mean(np.abs((Y - sales_pred) / sales_pred)) *100"
   ]
  },
  {
   "cell_type": "markdown",
   "id": "d9c87285",
   "metadata": {},
   "source": [
    "# logistic regression"
   ]
  },
  {
   "cell_type": "code",
   "execution_count": 4,
   "id": "b424ef88",
   "metadata": {},
   "outputs": [],
   "source": [
    "import pandas as pd\n",
    "from sklearn.model_selection import train_test_split\n",
    "from sklearn import metrics\n",
    "import statsmodels.api as sm"
   ]
  },
  {
   "cell_type": "code",
   "execution_count": 5,
   "id": "5aa6bfb3",
   "metadata": {},
   "outputs": [],
   "source": [
    "data=pd.read_csv(\"C:\\\\Users\\\\prasanna\\\\OneDrive\\\\Desktop\\\\4thsem\\\\Part A\\\\2_logistic_regression_data.csv\")"
   ]
  },
  {
   "cell_type": "code",
   "execution_count": 6,
   "id": "77ecf349",
   "metadata": {},
   "outputs": [
    {
     "name": "stdout",
     "output_type": "stream",
     "text": [
      "<class 'pandas.core.frame.DataFrame'>\n",
      "RangeIndex: 150 entries, 0 to 149\n",
      "Data columns (total 5 columns):\n",
      " #   Column          Non-Null Count  Dtype  \n",
      "---  ------          --------------  -----  \n",
      " 0   Dependents      150 non-null    object \n",
      " 1   tenure          150 non-null    int64  \n",
      " 2   MonthlyCharges  150 non-null    float64\n",
      " 3   TotalCharges    150 non-null    float64\n",
      " 4   Churn           150 non-null    int64  \n",
      "dtypes: float64(2), int64(2), object(1)\n",
      "memory usage: 6.0+ KB\n"
     ]
    }
   ],
   "source": [
    "data.info()"
   ]
  },
  {
   "cell_type": "code",
   "execution_count": 7,
   "id": "50991e4a",
   "metadata": {},
   "outputs": [
    {
     "data": {
      "text/html": [
       "<div>\n",
       "<style scoped>\n",
       "    .dataframe tbody tr th:only-of-type {\n",
       "        vertical-align: middle;\n",
       "    }\n",
       "\n",
       "    .dataframe tbody tr th {\n",
       "        vertical-align: top;\n",
       "    }\n",
       "\n",
       "    .dataframe thead th {\n",
       "        text-align: right;\n",
       "    }\n",
       "</style>\n",
       "<table border=\"1\" class=\"dataframe\">\n",
       "  <thead>\n",
       "    <tr style=\"text-align: right;\">\n",
       "      <th></th>\n",
       "      <th>Dependents</th>\n",
       "      <th>tenure</th>\n",
       "      <th>MonthlyCharges</th>\n",
       "      <th>TotalCharges</th>\n",
       "      <th>Churn</th>\n",
       "    </tr>\n",
       "  </thead>\n",
       "  <tbody>\n",
       "    <tr>\n",
       "      <th>0</th>\n",
       "      <td>No</td>\n",
       "      <td>1</td>\n",
       "      <td>29.85</td>\n",
       "      <td>29.85</td>\n",
       "      <td>0</td>\n",
       "    </tr>\n",
       "    <tr>\n",
       "      <th>1</th>\n",
       "      <td>No</td>\n",
       "      <td>34</td>\n",
       "      <td>56.95</td>\n",
       "      <td>1889.50</td>\n",
       "      <td>0</td>\n",
       "    </tr>\n",
       "    <tr>\n",
       "      <th>2</th>\n",
       "      <td>No</td>\n",
       "      <td>2</td>\n",
       "      <td>53.85</td>\n",
       "      <td>108.15</td>\n",
       "      <td>0</td>\n",
       "    </tr>\n",
       "    <tr>\n",
       "      <th>3</th>\n",
       "      <td>No</td>\n",
       "      <td>2</td>\n",
       "      <td>70.70</td>\n",
       "      <td>151.65</td>\n",
       "      <td>0</td>\n",
       "    </tr>\n",
       "    <tr>\n",
       "      <th>4</th>\n",
       "      <td>No</td>\n",
       "      <td>8</td>\n",
       "      <td>99.65</td>\n",
       "      <td>820.50</td>\n",
       "      <td>0</td>\n",
       "    </tr>\n",
       "  </tbody>\n",
       "</table>\n",
       "</div>"
      ],
      "text/plain": [
       "  Dependents  tenure  MonthlyCharges  TotalCharges  Churn\n",
       "0         No       1           29.85         29.85      0\n",
       "1         No      34           56.95       1889.50      0\n",
       "2         No       2           53.85        108.15      0\n",
       "3         No       2           70.70        151.65      0\n",
       "4         No       8           99.65        820.50      0"
      ]
     },
     "execution_count": 7,
     "metadata": {},
     "output_type": "execute_result"
    }
   ],
   "source": [
    "data.head()"
   ]
  },
  {
   "cell_type": "code",
   "execution_count": 12,
   "id": "fc501381",
   "metadata": {},
   "outputs": [
    {
     "data": {
      "text/plain": [
       "Dependents        0\n",
       "tenure            0\n",
       "MonthlyCharges    0\n",
       "TotalCharges      0\n",
       "Churn             0\n",
       "dtype: int64"
      ]
     },
     "execution_count": 12,
     "metadata": {},
     "output_type": "execute_result"
    }
   ],
   "source": [
    "data.isna().sum()"
   ]
  },
  {
   "cell_type": "code",
   "execution_count": 13,
   "id": "7ee6a669",
   "metadata": {},
   "outputs": [],
   "source": [
    "modeling_data=pd.get_dummies(data,columns=['Dependents'],drop_first= True)"
   ]
  },
  {
   "cell_type": "code",
   "execution_count": 14,
   "id": "d9d7ea63",
   "metadata": {},
   "outputs": [
    {
     "data": {
      "text/html": [
       "<div>\n",
       "<style scoped>\n",
       "    .dataframe tbody tr th:only-of-type {\n",
       "        vertical-align: middle;\n",
       "    }\n",
       "\n",
       "    .dataframe tbody tr th {\n",
       "        vertical-align: top;\n",
       "    }\n",
       "\n",
       "    .dataframe thead th {\n",
       "        text-align: right;\n",
       "    }\n",
       "</style>\n",
       "<table border=\"1\" class=\"dataframe\">\n",
       "  <thead>\n",
       "    <tr style=\"text-align: right;\">\n",
       "      <th></th>\n",
       "      <th>tenure</th>\n",
       "      <th>MonthlyCharges</th>\n",
       "      <th>TotalCharges</th>\n",
       "      <th>Churn</th>\n",
       "      <th>Dependents_Yes</th>\n",
       "    </tr>\n",
       "  </thead>\n",
       "  <tbody>\n",
       "    <tr>\n",
       "      <th>0</th>\n",
       "      <td>1</td>\n",
       "      <td>29.85</td>\n",
       "      <td>29.85</td>\n",
       "      <td>0</td>\n",
       "      <td>0</td>\n",
       "    </tr>\n",
       "    <tr>\n",
       "      <th>1</th>\n",
       "      <td>34</td>\n",
       "      <td>56.95</td>\n",
       "      <td>1889.50</td>\n",
       "      <td>0</td>\n",
       "      <td>0</td>\n",
       "    </tr>\n",
       "    <tr>\n",
       "      <th>2</th>\n",
       "      <td>2</td>\n",
       "      <td>53.85</td>\n",
       "      <td>108.15</td>\n",
       "      <td>0</td>\n",
       "      <td>0</td>\n",
       "    </tr>\n",
       "    <tr>\n",
       "      <th>3</th>\n",
       "      <td>2</td>\n",
       "      <td>70.70</td>\n",
       "      <td>151.65</td>\n",
       "      <td>0</td>\n",
       "      <td>0</td>\n",
       "    </tr>\n",
       "    <tr>\n",
       "      <th>4</th>\n",
       "      <td>8</td>\n",
       "      <td>99.65</td>\n",
       "      <td>820.50</td>\n",
       "      <td>0</td>\n",
       "      <td>0</td>\n",
       "    </tr>\n",
       "  </tbody>\n",
       "</table>\n",
       "</div>"
      ],
      "text/plain": [
       "   tenure  MonthlyCharges  TotalCharges  Churn  Dependents_Yes\n",
       "0       1           29.85         29.85      0               0\n",
       "1      34           56.95       1889.50      0               0\n",
       "2       2           53.85        108.15      0               0\n",
       "3       2           70.70        151.65      0               0\n",
       "4       8           99.65        820.50      0               0"
      ]
     },
     "execution_count": 14,
     "metadata": {},
     "output_type": "execute_result"
    }
   ],
   "source": [
    "modeling_data.head()"
   ]
  },
  {
   "cell_type": "code",
   "execution_count": 15,
   "id": "cfcf3fcd",
   "metadata": {},
   "outputs": [],
   "source": [
    "Y=modeling_data['Churn']"
   ]
  },
  {
   "cell_type": "code",
   "execution_count": 16,
   "id": "132a4ab3",
   "metadata": {},
   "outputs": [],
   "source": [
    "X=modeling_data.drop(['Churn'],axis=1)"
   ]
  },
  {
   "cell_type": "code",
   "execution_count": 17,
   "id": "3568cfe2",
   "metadata": {},
   "outputs": [
    {
     "name": "stdout",
     "output_type": "stream",
     "text": [
      "Optimization terminated successfully.\n",
      "         Current function value: 0.105097\n",
      "         Iterations 11\n"
     ]
    }
   ],
   "source": [
    "model=sm.Logit(Y.astype(float),X.astype(float)).fit()"
   ]
  },
  {
   "cell_type": "code",
   "execution_count": 19,
   "id": "36d9b01a",
   "metadata": {},
   "outputs": [
    {
     "data": {
      "text/html": [
       "<table class=\"simpletable\">\n",
       "<caption>Logit Regression Results</caption>\n",
       "<tr>\n",
       "  <th>Dep. Variable:</th>         <td>Churn</td>      <th>  No. Observations:  </th>  <td>   150</td>  \n",
       "</tr>\n",
       "<tr>\n",
       "  <th>Model:</th>                 <td>Logit</td>      <th>  Df Residuals:      </th>  <td>   146</td>  \n",
       "</tr>\n",
       "<tr>\n",
       "  <th>Method:</th>                 <td>MLE</td>       <th>  Df Model:          </th>  <td>     3</td>  \n",
       "</tr>\n",
       "<tr>\n",
       "  <th>Date:</th>            <td>Thu, 14 Sep 2023</td> <th>  Pseudo R-squ.:     </th>  <td>0.8036</td>  \n",
       "</tr>\n",
       "<tr>\n",
       "  <th>Time:</th>                <td>22:03:43</td>     <th>  Log-Likelihood:    </th> <td> -15.765</td> \n",
       "</tr>\n",
       "<tr>\n",
       "  <th>converged:</th>             <td>True</td>       <th>  LL-Null:           </th> <td> -80.283</td> \n",
       "</tr>\n",
       "<tr>\n",
       "  <th>Covariance Type:</th>     <td>nonrobust</td>    <th>  LLR p-value:       </th> <td>8.726e-28</td>\n",
       "</tr>\n",
       "</table>\n",
       "<table class=\"simpletable\">\n",
       "<tr>\n",
       "         <td></td>           <th>coef</th>     <th>std err</th>      <th>z</th>      <th>P>|z|</th>  <th>[0.025</th>    <th>0.975]</th>  \n",
       "</tr>\n",
       "<tr>\n",
       "  <th>tenure</th>         <td>   -0.1840</td> <td>    0.051</td> <td>   -3.630</td> <td> 0.000</td> <td>   -0.283</td> <td>   -0.085</td>\n",
       "</tr>\n",
       "<tr>\n",
       "  <th>MonthlyCharges</th> <td>   -0.2614</td> <td>    0.079</td> <td>   -3.329</td> <td> 0.001</td> <td>   -0.415</td> <td>   -0.108</td>\n",
       "</tr>\n",
       "<tr>\n",
       "  <th>TotalCharges</th>   <td>    0.0066</td> <td>    0.002</td> <td>    3.547</td> <td> 0.000</td> <td>    0.003</td> <td>    0.010</td>\n",
       "</tr>\n",
       "<tr>\n",
       "  <th>Dependents_Yes</th> <td>    6.8330</td> <td>    1.964</td> <td>    3.480</td> <td> 0.001</td> <td>    2.985</td> <td>   10.681</td>\n",
       "</tr>\n",
       "</table><br/><br/>Possibly complete quasi-separation: A fraction 0.41 of observations can be<br/>perfectly predicted. This might indicate that there is complete<br/>quasi-separation. In this case some parameters will not be identified."
      ],
      "text/plain": [
       "<class 'statsmodels.iolib.summary.Summary'>\n",
       "\"\"\"\n",
       "                           Logit Regression Results                           \n",
       "==============================================================================\n",
       "Dep. Variable:                  Churn   No. Observations:                  150\n",
       "Model:                          Logit   Df Residuals:                      146\n",
       "Method:                           MLE   Df Model:                            3\n",
       "Date:                Thu, 14 Sep 2023   Pseudo R-squ.:                  0.8036\n",
       "Time:                        22:03:43   Log-Likelihood:                -15.765\n",
       "converged:                       True   LL-Null:                       -80.283\n",
       "Covariance Type:            nonrobust   LLR p-value:                 8.726e-28\n",
       "==================================================================================\n",
       "                     coef    std err          z      P>|z|      [0.025      0.975]\n",
       "----------------------------------------------------------------------------------\n",
       "tenure            -0.1840      0.051     -3.630      0.000      -0.283      -0.085\n",
       "MonthlyCharges    -0.2614      0.079     -3.329      0.001      -0.415      -0.108\n",
       "TotalCharges       0.0066      0.002      3.547      0.000       0.003       0.010\n",
       "Dependents_Yes     6.8330      1.964      3.480      0.001       2.985      10.681\n",
       "==================================================================================\n",
       "\n",
       "Possibly complete quasi-separation: A fraction 0.41 of observations can be\n",
       "perfectly predicted. This might indicate that there is complete\n",
       "quasi-separation. In this case some parameters will not be identified.\n",
       "\"\"\""
      ]
     },
     "execution_count": 19,
     "metadata": {},
     "output_type": "execute_result"
    }
   ],
   "source": [
    "model.summary()"
   ]
  },
  {
   "cell_type": "code",
   "execution_count": 21,
   "id": "12558f26",
   "metadata": {},
   "outputs": [],
   "source": [
    "pred=model.predict(X)"
   ]
  },
  {
   "cell_type": "code",
   "execution_count": 22,
   "id": "19510748",
   "metadata": {},
   "outputs": [],
   "source": [
    "predicted_churn=[1 if x>0.5 else 0 for x in pred]\n"
   ]
  },
  {
   "cell_type": "code",
   "execution_count": 23,
   "id": "07582b11",
   "metadata": {},
   "outputs": [
    {
     "name": "stdout",
     "output_type": "stream",
     "text": [
      "              precision    recall  f1-score   support\n",
      "\n",
      "           0       0.95      0.97      0.96       116\n",
      "           1       0.88      0.82      0.85        34\n",
      "\n",
      "    accuracy                           0.93       150\n",
      "   macro avg       0.91      0.89      0.90       150\n",
      "weighted avg       0.93      0.93      0.93       150\n",
      "\n"
     ]
    }
   ],
   "source": [
    "print(metrics.classification_report(Y,predicted_churn))"
   ]
  },
  {
   "cell_type": "markdown",
   "id": "dfe3b719",
   "metadata": {},
   "source": [
    "# cluster"
   ]
  },
  {
   "cell_type": "code",
   "execution_count": 25,
   "id": "315cf3cc",
   "metadata": {},
   "outputs": [],
   "source": [
    "import pandas as pd\n",
    "import sklearn.cluster as KMeans\n",
    "import matplotlib.pyplot as plt\n",
    "from sklearn.metrics import silhouette_score"
   ]
  },
  {
   "cell_type": "code",
   "execution_count": 27,
   "id": "37e66d89",
   "metadata": {},
   "outputs": [],
   "source": [
    "data=pd.read_csv(\"C:\\\\Users\\\\prasanna\\\\OneDrive\\\\Desktop\\\\4thsem\\\\Part A\\\\4_kmeas_clustering_data.csv\")"
   ]
  },
  {
   "cell_type": "code",
   "execution_count": 28,
   "id": "180de221",
   "metadata": {},
   "outputs": [
    {
     "name": "stdout",
     "output_type": "stream",
     "text": [
      "<class 'pandas.core.frame.DataFrame'>\n",
      "RangeIndex: 20 entries, 0 to 19\n",
      "Data columns (total 6 columns):\n",
      " #   Column  Non-Null Count  Dtype\n",
      "---  ------  --------------  -----\n",
      " 0   x1      20 non-null     int64\n",
      " 1   x2      20 non-null     int64\n",
      " 2   x3      20 non-null     int64\n",
      " 3   x4      20 non-null     int64\n",
      " 4   x5      20 non-null     int64\n",
      " 5   x6      20 non-null     int64\n",
      "dtypes: int64(6)\n",
      "memory usage: 1.1 KB\n"
     ]
    }
   ],
   "source": [
    "data.info()"
   ]
  },
  {
   "cell_type": "code",
   "execution_count": 29,
   "id": "0a275110",
   "metadata": {},
   "outputs": [
    {
     "data": {
      "text/html": [
       "<div>\n",
       "<style scoped>\n",
       "    .dataframe tbody tr th:only-of-type {\n",
       "        vertical-align: middle;\n",
       "    }\n",
       "\n",
       "    .dataframe tbody tr th {\n",
       "        vertical-align: top;\n",
       "    }\n",
       "\n",
       "    .dataframe thead th {\n",
       "        text-align: right;\n",
       "    }\n",
       "</style>\n",
       "<table border=\"1\" class=\"dataframe\">\n",
       "  <thead>\n",
       "    <tr style=\"text-align: right;\">\n",
       "      <th></th>\n",
       "      <th>x1</th>\n",
       "      <th>x2</th>\n",
       "      <th>x3</th>\n",
       "      <th>x4</th>\n",
       "      <th>x5</th>\n",
       "      <th>x6</th>\n",
       "    </tr>\n",
       "  </thead>\n",
       "  <tbody>\n",
       "    <tr>\n",
       "      <th>0</th>\n",
       "      <td>6</td>\n",
       "      <td>4</td>\n",
       "      <td>7</td>\n",
       "      <td>3</td>\n",
       "      <td>2</td>\n",
       "      <td>3</td>\n",
       "    </tr>\n",
       "    <tr>\n",
       "      <th>1</th>\n",
       "      <td>2</td>\n",
       "      <td>3</td>\n",
       "      <td>1</td>\n",
       "      <td>4</td>\n",
       "      <td>5</td>\n",
       "      <td>4</td>\n",
       "    </tr>\n",
       "    <tr>\n",
       "      <th>2</th>\n",
       "      <td>7</td>\n",
       "      <td>2</td>\n",
       "      <td>6</td>\n",
       "      <td>4</td>\n",
       "      <td>1</td>\n",
       "      <td>3</td>\n",
       "    </tr>\n",
       "    <tr>\n",
       "      <th>3</th>\n",
       "      <td>4</td>\n",
       "      <td>6</td>\n",
       "      <td>4</td>\n",
       "      <td>5</td>\n",
       "      <td>3</td>\n",
       "      <td>6</td>\n",
       "    </tr>\n",
       "    <tr>\n",
       "      <th>4</th>\n",
       "      <td>1</td>\n",
       "      <td>3</td>\n",
       "      <td>2</td>\n",
       "      <td>2</td>\n",
       "      <td>6</td>\n",
       "      <td>4</td>\n",
       "    </tr>\n",
       "  </tbody>\n",
       "</table>\n",
       "</div>"
      ],
      "text/plain": [
       "   x1  x2  x3  x4  x5  x6\n",
       "0   6   4   7   3   2   3\n",
       "1   2   3   1   4   5   4\n",
       "2   7   2   6   4   1   3\n",
       "3   4   6   4   5   3   6\n",
       "4   1   3   2   2   6   4"
      ]
     },
     "execution_count": 29,
     "metadata": {},
     "output_type": "execute_result"
    }
   ],
   "source": [
    "data.head()"
   ]
  },
  {
   "cell_type": "code",
   "execution_count": 30,
   "id": "414ad4f9",
   "metadata": {},
   "outputs": [
    {
     "data": {
      "text/plain": [
       "x1    0\n",
       "x2    0\n",
       "x3    0\n",
       "x4    0\n",
       "x5    0\n",
       "x6    0\n",
       "dtype: int64"
      ]
     },
     "execution_count": 30,
     "metadata": {},
     "output_type": "execute_result"
    }
   ],
   "source": [
    "data.isna().sum()"
   ]
  },
  {
   "cell_type": "code",
   "execution_count": 61,
   "id": "eb584684",
   "metadata": {},
   "outputs": [
    {
     "name": "stdout",
     "output_type": "stream",
     "text": [
      "<class 'pandas.core.frame.DataFrame'>\n",
      "RangeIndex: 20 entries, 0 to 19\n",
      "Data columns (total 6 columns):\n",
      " #   Column  Non-Null Count  Dtype\n",
      "---  ------  --------------  -----\n",
      " 0   x1      20 non-null     int64\n",
      " 1   x2      20 non-null     int64\n",
      " 2   x3      20 non-null     int64\n",
      " 3   x4      20 non-null     int64\n",
      " 4   x5      20 non-null     int64\n",
      " 5   x6      20 non-null     int64\n",
      "dtypes: int64(6)\n",
      "memory usage: 1.1 KB\n"
     ]
    },
    {
     "data": {
      "image/png": "[encoded data removed]",
      "text/plain": [
       "<Figure size 640x480 with 1 Axes>"
      ]
     },
     "metadata": {},
     "output_type": "display_data"
    },
    {
     "name": "stdout",
     "output_type": "stream",
     "text": [
      "silhouetter score:0.533\n"
     ]
    }
   ],
   "source": [
    "import pandas as pd\n",
    "from sklearn.cluster import KMeans\n",
    "from sklearn.metrics import silhouette_score\n",
    "import matplotlib.pyplot as plt\n",
    "\n",
    "data=pd.read_csv(\"C:\\\\Users\\\\prasanna\\\\OneDrive\\\\Desktop\\\\4thsem\\\\Part A\\\\4_kmeas_clustering_data.csv\")\n",
    "data.info()\n",
    "\n",
    "Sum_of_squared_distances=[]\n",
    "K=range(2,5)\n",
    "for k in K:\n",
    "    km=KMeans(n_clusters=k)\n",
    "    km=km.fit(data)\n",
    "    Sum_of_squared_distances.append(km.inertia_)\n",
    "    \n",
    "plt.plot(K,Sum_of_squared_distances,'bx-')\n",
    "plt.show()\n",
    "\n",
    "model_k=KMeans(n_clusters=3,random_state=42)\n",
    "data_kmeans=model.fit(data)\n",
    "data['cluster_labels']=data_kmeans.labels_\n",
    "data.to_csv('cluster_labels.csv')\n",
    "\n",
    "score=silhouette_score(data,model.labels_, metric='euclidean')\n",
    "print('silhouetter score:%.3f' % score)\n"
   ]
  },
  {
   "cell_type": "markdown",
   "id": "e727f60c",
   "metadata": {},
   "source": [
    "# decision tree"
   ]
  },
  {
   "cell_type": "code",
   "execution_count": 63,
   "id": "fa7bf2d4",
   "metadata": {},
   "outputs": [
    {
     "name": "stdout",
     "output_type": "stream",
     "text": [
      "<class 'pandas.core.frame.DataFrame'>\n",
      "RangeIndex: 100 entries, 0 to 99\n",
      "Data columns (total 5 columns):\n",
      " #   Column         Non-Null Count  Dtype  \n",
      "---  ------         --------------  -----  \n",
      " 0   SepalLengthCm  100 non-null    float64\n",
      " 1   SepalWidthCm   100 non-null    float64\n",
      " 2   PetalLengthCm  100 non-null    float64\n",
      " 3   PetalWidthCm   100 non-null    float64\n",
      " 4   Species        100 non-null    object \n",
      "dtypes: float64(4), object(1)\n",
      "memory usage: 4.0+ KB\n"
     ]
    }
   ],
   "source": [
    "import pandas as pd\n",
    "import numpy as np\n",
    "import matplotlib.pyplot as plt\n",
    "from sklearn.tree import DecisionTreeClassifier\n",
    "from sklearn.tree import plot_tree\n",
    "from sklearn.metrics import classification_report, confusion_matrix\n",
    "\n",
    "data=pd.read_csv(\"C:\\\\Users\\\\prasanna\\\\OneDrive\\\\Desktop\\\\4thsem\\\\Part A\\\\3_CART_Iris_data.csv\")\n",
    "data.info()\n",
    "\n"
   ]
  },
  {
   "cell_type": "code",
   "execution_count": 77,
   "id": "a0a590f2",
   "metadata": {},
   "outputs": [],
   "source": [
    "\n",
    "model=DecisionTreeClassifier(max_depth=1,min_samples_leaf=3)\n",
    "model=model.fit(data[['SepalLengthCm','SepalWidthCm','PetalLengthCm','PetalWidthCm']],data.Species)\n"
   ]
  },
  {
   "cell_type": "code",
   "execution_count": 78,
   "id": "bce43a40",
   "metadata": {},
   "outputs": [],
   "source": [
    "y=data['Species']"
   ]
  },
  {
   "cell_type": "code",
   "execution_count": 79,
   "id": "a9156ee9",
   "metadata": {},
   "outputs": [],
   "source": [
    "x=data.drop(['Species'] ,axis=1)"
   ]
  },
  {
   "cell_type": "code",
   "execution_count": 80,
   "id": "0bf9fe08",
   "metadata": {},
   "outputs": [
    {
     "data": {
      "text/plain": [
       "<Figure size 1000x800 with 0 Axes>"
      ]
     },
     "metadata": {},
     "output_type": "display_data"
    }
   ],
   "source": [
    "dt_feature_names=list(X.columns)\n",
    "plt.figure(figsize=(10,8))\n",
    "dt_target_names=[str(s) for s in y.unique()]"
   ]
  },
  {
   "cell_type": "code",
   "execution_count": 81,
   "id": "04b48660",
   "metadata": {},
   "outputs": [
    {
     "data": {
      "text/plain": [
       "[Text(0.5, 0.75, 'Dependents_Yes <= 1.75\\ngini = 0.5\\nsamples = 100\\nvalue = [50, 50]\\nclass = Iris-versicolor'),\n",
       " Text(0.25, 0.25, 'gini = 0.168\\nsamples = 54\\nvalue = [49, 5]\\nclass = Iris-versicolor'),\n",
       " Text(0.75, 0.25, 'gini = 0.043\\nsamples = 46\\nvalue = [1, 45]\\nclass = Iris-virginica')]"
      ]
     },
     "execution_count": 81,
     "metadata": {},
     "output_type": "execute_result"
    },
    {
     "data": {
      "image/png": "[encoded data removed]",
      "text/plain": [
       "<Figure size 640x480 with 1 Axes>"
      ]
     },
     "metadata": {},
     "output_type": "display_data"
    }
   ],
   "source": [
    "plot_tree(model,feature_names=dt_feature_names,class_names=dt_target_names,filled=True)"
   ]
  },
  {
   "cell_type": "code",
   "execution_count": 82,
   "id": "a97f4222",
   "metadata": {},
   "outputs": [],
   "source": [
    "pred=model.predict(x)"
   ]
  },
  {
   "cell_type": "code",
   "execution_count": 83,
   "id": "be52bf69",
   "metadata": {},
   "outputs": [
    {
     "name": "stdout",
     "output_type": "stream",
     "text": [
      "[[49  1]\n",
      " [ 5 45]]\n"
     ]
    }
   ],
   "source": [
    "print(confusion_matrix(y,pred))"
   ]
  },
  {
   "cell_type": "code",
   "execution_count": 85,
   "id": "48e0a988",
   "metadata": {},
   "outputs": [
    {
     "name": "stdout",
     "output_type": "stream",
     "text": [
      "                 precision    recall  f1-score   support\n",
      "\n",
      "Iris-versicolor       0.91      0.98      0.94        50\n",
      " Iris-virginica       0.98      0.90      0.94        50\n",
      "\n",
      "       accuracy                           0.94       100\n",
      "      macro avg       0.94      0.94      0.94       100\n",
      "   weighted avg       0.94      0.94      0.94       100\n",
      "\n"
     ]
    }
   ],
   "source": [
    "print(classification_report(y,pred))"
   ]
  },
  {
   "cell_type": "code",
   "execution_count": null,
   "id": "8c3ba03f",
   "metadata": {},
   "outputs": [],
   "source": []
  }
 ],
 "metadata": {
  "kernelspec": {
   "display_name": "Python 3 (ipykernel)",
   "language": "python",
   "name": "python3"
  },
  "language_info": {
   "codemirror_mode": {
    "name": "ipython",
    "version": 3
   },
   "file_extension": ".py",
   "mimetype": "text/x-python",
   "name": "python",
   "nbconvert_exporter": "python",
   "pygments_lexer": "ipython3",
   "version": "3.9.13"
  }
 },
 "nbformat": 4,
 "nbformat_minor": 5
}
